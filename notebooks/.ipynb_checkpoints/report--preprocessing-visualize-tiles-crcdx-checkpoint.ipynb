{
 "cells": [
  {
   "cell_type": "code",
   "execution_count": 11,
   "metadata": {},
   "outputs": [],
   "source": [
    "import pandas as pd\n",
    "from PIL import Image\n",
    "import os"
   ]
  },
  {
   "cell_type": "code",
   "execution_count": 6,
   "metadata": {},
   "outputs": [],
   "source": [
    "df = pd.read_csv('/home/yonis/histogenomics-msc-2019/yoni-code/MsiPrediction/data/msidata/crc_dx/train/data.csv')\n",
    "root = \"/home/yonis/histogenomics-msc-2019/yoni-code/MsiPrediction/data/msidata/crc_dx/train/\""
   ]
  },
  {
   "cell_type": "code",
   "execution_count": 4,
   "metadata": {},
   "outputs": [
    {
     "data": {
      "text/html": [
       "<div>\n",
       "<style scoped>\n",
       "    .dataframe tbody tr th:only-of-type {\n",
       "        vertical-align: middle;\n",
       "    }\n",
       "\n",
       "    .dataframe tbody tr th {\n",
       "        vertical-align: top;\n",
       "    }\n",
       "\n",
       "    .dataframe thead th {\n",
       "        text-align: right;\n",
       "    }\n",
       "</style>\n",
       "<table border=\"1\" class=\"dataframe\">\n",
       "  <thead>\n",
       "    <tr style=\"text-align: right;\">\n",
       "      <th></th>\n",
       "      <th>Unnamed: 0</th>\n",
       "      <th>img</th>\n",
       "      <th>label</th>\n",
       "      <th>patient_id</th>\n",
       "    </tr>\n",
       "  </thead>\n",
       "  <tbody>\n",
       "    <tr>\n",
       "      <th>0</th>\n",
       "      <td>0</td>\n",
       "      <td>MSS/blk-TGINPMKGNHYS-TCGA-CK-5912-01Z-00-DX1.png</td>\n",
       "      <td>0</td>\n",
       "      <td>5912</td>\n",
       "    </tr>\n",
       "    <tr>\n",
       "      <th>1</th>\n",
       "      <td>1</td>\n",
       "      <td>MSS/blk-TGINRMPEMKGT-TCGA-CM-6164-01Z-00-DX1.png</td>\n",
       "      <td>0</td>\n",
       "      <td>6164</td>\n",
       "    </tr>\n",
       "    <tr>\n",
       "      <th>2</th>\n",
       "      <td>2</td>\n",
       "      <td>MSS/blk-TGIQPQRNNDKP-TCGA-D5-6541-01Z-00-DX1.png</td>\n",
       "      <td>0</td>\n",
       "      <td>6541</td>\n",
       "    </tr>\n",
       "    <tr>\n",
       "      <th>3</th>\n",
       "      <td>3</td>\n",
       "      <td>MSS/blk-TGIRHSRCAQYG-TCGA-CM-6680-01Z-00-DX1.png</td>\n",
       "      <td>0</td>\n",
       "      <td>6680</td>\n",
       "    </tr>\n",
       "    <tr>\n",
       "      <th>4</th>\n",
       "      <td>4</td>\n",
       "      <td>MSS/blk-TGISIQQEIMRF-TCGA-DT-5265-01Z-00-DX1.png</td>\n",
       "      <td>0</td>\n",
       "      <td>5265</td>\n",
       "    </tr>\n",
       "  </tbody>\n",
       "</table>\n",
       "</div>"
      ],
      "text/plain": [
       "   Unnamed: 0                                               img  label  \\\n",
       "0           0  MSS/blk-TGINPMKGNHYS-TCGA-CK-5912-01Z-00-DX1.png      0   \n",
       "1           1  MSS/blk-TGINRMPEMKGT-TCGA-CM-6164-01Z-00-DX1.png      0   \n",
       "2           2  MSS/blk-TGIQPQRNNDKP-TCGA-D5-6541-01Z-00-DX1.png      0   \n",
       "3           3  MSS/blk-TGIRHSRCAQYG-TCGA-CM-6680-01Z-00-DX1.png      0   \n",
       "4           4  MSS/blk-TGISIQQEIMRF-TCGA-DT-5265-01Z-00-DX1.png      0   \n",
       "\n",
       "  patient_id  \n",
       "0       5912  \n",
       "1       6164  \n",
       "2       6541  \n",
       "3       6680  \n",
       "4       5265  "
      ]
     },
     "execution_count": 4,
     "metadata": {},
     "output_type": "execute_result"
    }
   ],
   "source": [
    "df.head()"
   ]
  },
  {
   "cell_type": "code",
   "execution_count": null,
   "metadata": {},
   "outputs": [],
   "source": [
    "for idx, row in df[df['label']==0].sample(frac=1).iterrows():\n",
    "    print(idx)\n",
    "    display(Image.open(os.path.join(root, row['img'])))\n",
    "    if idx == 2:\n",
    "        break"
   ]
  },
  {
   "cell_type": "code",
   "execution_count": null,
   "metadata": {},
   "outputs": [],
   "source": []
  }
 ],
 "metadata": {
  "kernelspec": {
   "display_name": "Python (thesisp375_clone)",
   "language": "python",
   "name": "thesisp375_clone"
  },
  "language_info": {
   "codemirror_mode": {
    "name": "ipython",
    "version": 3
   },
   "file_extension": ".py",
   "mimetype": "text/x-python",
   "name": "python",
   "nbconvert_exporter": "python",
   "pygments_lexer": "ipython3",
   "version": "3.7.5"
  }
 },
 "nbformat": 4,
 "nbformat_minor": 4
}
