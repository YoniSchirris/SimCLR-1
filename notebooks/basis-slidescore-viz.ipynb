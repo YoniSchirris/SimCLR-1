{
 "cells": [
  {
   "cell_type": "code",
   "execution_count": null,
   "metadata": {},
   "outputs": [],
   "source": [
    "import numpy as np\n",
    "import json\n",
    "from PIL import Image\n",
    "import matplotlib.pyplot as plt\n",
    "import sys\n",
    "# sys.path.append('../../')\n",
    "sys.path.append('./slidescore/')\n",
    "# importing the python Slidescore API client\n",
    "from slidescore_utils import APIClient\n",
    "# from .slidescore import APIClient"
   ]
  },
  {
   "cell_type": "code",
   "execution_count": null,
   "metadata": {},
   "outputs": [],
   "source": [
    "\n",
    "\n",
    "# calling the Slidescore API client\n",
    "url = \"https://rhpc.nki.nl/slidescore\"\n",
    "# apitoken = open('yoni_key/siamak_bod_api.txt', 'r').read().strip()\n",
    "apitoken = open('yoni_key/key_study_777.txt', 'r').read().strip()\n",
    "url = \"https://rhpc.nki.nl/slidescore\"\n",
    "\n",
    "client = APIClient(url, apitoken)"
   ]
  }
 ],
 "metadata": {
  "kernelspec": {
   "display_name": "Python 3",
   "language": "python",
   "name": "python3"
  },
  "language_info": {
   "codemirror_mode": {
    "name": "ipython",
    "version": 3
   },
   "file_extension": ".py",
   "mimetype": "text/x-python",
   "name": "python",
   "nbconvert_exporter": "python",
   "pygments_lexer": "ipython3",
   "version": "3.7.5"
  }
 },
 "nbformat": 4,
 "nbformat_minor": 4
}
