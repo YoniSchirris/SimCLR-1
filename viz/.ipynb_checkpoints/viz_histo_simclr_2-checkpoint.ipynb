{
 "cells": [
  {
   "cell_type": "code",
   "execution_count": null,
   "metadata": {},
   "outputs": [],
   "source": [
    "import torch\n",
    "import torchvision\n",
    "import sys\n",
    "import PIL\n",
    "sys.path.append('..')\n",
    "from modules.transformations.simclr import TransformsSimCLR\n"
   ]
  },
  {
   "cell_type": "code",
   "execution_count": null,
   "metadata": {},
   "outputs": [],
   "source": [
    "paths = ['/Users/yoni/dropbox/uva/ai/nki/histogenomics-msc-2019/yoni-code/MsiPrediction/data/msidata/crc_dx/train/MSS/blk-TGINRMPEMKGT-TCGA-CM-6164-01Z-00-DX1.png',\n",
    "'/Users/yoni/dropbox/uva/ai/nki/histogenomics-msc-2019/yoni-code/MsiPrediction/data/msidata/crc_dx/train/MSS/blk-TGIQPQRNNDKP-TCGA-D5-6541-01Z-00-DX1.png']"
   ]
  },
  {
   "cell_type": "code",
   "execution_count": null,
   "metadata": {},
   "outputs": [],
   "source": [
    "PIL.Image.open('/Users/yoni/dropbox/UvA/AI/nki/histogenomics-msc-2019/yoni-code/MsiPrediction/data/msidata/crc_dx/train/MSIMUT/blk-AACAADHHYGDC-TCGA-G4-6588-01Z-00-DX1.png')"
   ]
  },
  {
   "cell_type": "code",
   "execution_count": null,
   "metadata": {},
   "outputs": [],
   "source": [
    "\n",
    "from skimage import io, transform\n",
    "from PIL import Image\n",
    "\n",
    "target = '/Users/yoni/dropbox/UvA/AI/nki/histogenomics-msc-2019/yoni-code/MsiPrediction/data/msidata/crc_dx/train/MSIMUT/blk-AACAADHHYGDC-TCGA-G4-6588-01Z-00-DX1.png'\n",
    "\n",
    "print(np.array(Image.open(target)))\n",
    "print(np.array(io.imread(target)))\n",
    "transformer = TransformsSimCLR(size=224, henorm='macenko', path_to_target_im=target).test_transform\n",
    "    \n",
    "display(Image.fromarray(io.imread(target)))\n",
    "\n",
    "for path in paths:\n",
    "#     a,b = transformer(io.imread(path))\n",
    "    a = transformer(io.imread(path))\n",
    "#     a,b = torchvision.transforms.functional.to_pil_image(a), torchvision.transforms.functional.to_pil_image(b)\n",
    "    a = torchvision.transforms.functional.to_pil_image(a)\n",
    "    display(Image.fromarray(io.imread(path)))\n",
    "    display(a)\n",
    "#     display(b)\n",
    "#     display(Image.fromarray(a.numpy()))\n",
    "#     display(Image.fromarray(b.numpy()))"
   ]
  },
  {
   "cell_type": "code",
   "execution_count": null,
   "metadata": {},
   "outputs": [],
   "source": []
  },
  {
   "cell_type": "code",
   "execution_count": null,
   "metadata": {},
   "outputs": [],
   "source": []
  }
 ],
 "metadata": {
  "kernelspec": {
   "display_name": "Python 3",
   "language": "python",
   "name": "python3"
  },
  "language_info": {
   "codemirror_mode": {
    "name": "ipython",
    "version": 3
   },
   "file_extension": ".py",
   "mimetype": "text/x-python",
   "name": "python",
   "nbconvert_exporter": "python",
   "pygments_lexer": "ipython3",
   "version": "3.7.5"
  },
  "varInspector": {
   "cols": {
    "lenName": 16,
    "lenType": 16,
    "lenVar": 40
   },
   "kernels_config": {
    "python": {
     "delete_cmd_postfix": "",
     "delete_cmd_prefix": "del ",
     "library": "var_list.py",
     "varRefreshCmd": "print(var_dic_list())"
    },
    "r": {
     "delete_cmd_postfix": ") ",
     "delete_cmd_prefix": "rm(",
     "library": "var_list.r",
     "varRefreshCmd": "cat(var_dic_list()) "
    }
   },
   "types_to_exclude": [
    "module",
    "function",
    "builtin_function_or_method",
    "instance",
    "_Feature"
   ],
   "window_display": false
  }
 },
 "nbformat": 4,
 "nbformat_minor": 4
}
