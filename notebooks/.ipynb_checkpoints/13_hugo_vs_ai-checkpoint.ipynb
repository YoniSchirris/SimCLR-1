{
 "cells": [
  {
   "cell_type": "code",
   "execution_count": 28,
   "metadata": {},
   "outputs": [],
   "source": [
    "import pandas as pd\n",
    "import sys\n",
    "sys.path.append('./slidescore/')\n",
    "from slidescore_utils import APIClient\n",
    "import os\n",
    "import json\n",
    "import numpy as np\n",
    "import PIL\n",
    "from sklearn import metrics"
   ]
  },
  {
   "cell_type": "code",
   "execution_count": 122,
   "metadata": {},
   "outputs": [],
   "source": [
    "df_h = pd.read_csv('/project/schirris/basisscripts/step_4/basis_slidescore_answers_summary.csv')\n",
    "all_labels = pd.read_csv('/project/schirris/basisscripts/step_3/data_basis_brca_with_labels.csv').groupby('case').mean()\n",
    "df_ai = pd.read_csv('/home/yonis/SimCLR-1/logs/eval/1342/regression_output_epoch_20_2020-10-09-16-24-40.csv').set_index('patient')\n",
    "im_path = '/home/yonis/SimCLR-1/logs/eval/1342/roc_curve_epoch_20.png'"
   ]
  },
  {
   "cell_type": "code",
   "execution_count": 123,
   "metadata": {},
   "outputs": [],
   "source": [
    "# display(Image.open(im_path))"
   ]
  },
  {
   "cell_type": "code",
   "execution_count": null,
   "metadata": {},
   "outputs": [],
   "source": [
    "\n"
   ]
  },
  {
   "cell_type": "code",
   "execution_count": 124,
   "metadata": {},
   "outputs": [],
   "source": [
    "df_h['patient']=df_h.apply(lambda x: x['path'].split('/')[-1].split('_')[1].split('-')[0], axis=1)\n",
    "# df_h['WSI']=df.apply(lambda x: x['path'].split('/')[-1][7:-5], axis=1)\n",
    "# df_h['label'] = df.apply(lambda x: all_labels.loc[x['WSI'], 'HRD'], axis=1)\n",
    "# df_h['label'] = df_h.apply(lambda x: all_labels.loc[x['patient'], 'median_HRD'], axis=1)\n"
   ]
  },
  {
   "cell_type": "code",
   "execution_count": 126,
   "metadata": {},
   "outputs": [],
   "source": [
    "df_h_test = df_h[df_h['patient'].isin(df_ai.index)]\n",
    "df_h_test = df_h_test[df_h_test['hrd'].isin(['No', 'Yes'])]"
   ]
  },
  {
   "cell_type": "code",
   "execution_count": 127,
   "metadata": {},
   "outputs": [
    {
     "data": {
      "text/plain": [
       "31"
      ]
     },
     "execution_count": 127,
     "metadata": {},
     "output_type": "execute_result"
    }
   ],
   "source": [
    "len(df_h_test)"
   ]
  },
  {
   "cell_type": "code",
   "execution_count": 128,
   "metadata": {},
   "outputs": [],
   "source": [
    "df_h_test['h_label'] = df_h_test.apply(lambda x: 1 if x['hrd'] == \"Yes\" else 0, axis=1)\n",
    "df_h_test['real_label'] = df_h_test.apply(lambda x: all_labels.at[x['patient'], 'median_HRD'], axis=1)\n",
    "df_h_test['correct'] = df_h_test.apply(lambda x: x['h_label']==x['real_label'], axis=1)\n",
    "df_h_test['ai_label'] = df_h_test.apply(lambda x: df_ai.at[x['patient'], 'preds'], axis=1)"
   ]
  },
  {
   "cell_type": "code",
   "execution_count": 121,
   "metadata": {},
   "outputs": [
    {
     "data": {
      "text/plain": [
       "3       True\n",
       "7       True\n",
       "8      False\n",
       "12      True\n",
       "17     False\n",
       "26     False\n",
       "37      True\n",
       "41      True\n",
       "44      True\n",
       "45      True\n",
       "79     False\n",
       "81      True\n",
       "85      True\n",
       "97     False\n",
       "111     True\n",
       "119     True\n",
       "141    False\n",
       "158    False\n",
       "167     True\n",
       "178    False\n",
       "189    False\n",
       "190     True\n",
       "192     True\n",
       "194    False\n",
       "216     True\n",
       "228    False\n",
       "232     True\n",
       "236     True\n",
       "240    False\n",
       "241     True\n",
       "244    False\n",
       "Name: correct, dtype: bool"
      ]
     },
     "execution_count": 121,
     "metadata": {},
     "output_type": "execute_result"
    }
   ],
   "source": [
    "df_h_test['correct']"
   ]
  },
  {
   "cell_type": "code",
   "execution_count": null,
   "metadata": {},
   "outputs": [],
   "source": []
  }
 ],
 "metadata": {
  "kernelspec": {
   "display_name": "Python 3",
   "language": "python",
   "name": "python3"
  },
  "language_info": {
   "codemirror_mode": {
    "name": "ipython",
    "version": 3
   },
   "file_extension": ".py",
   "mimetype": "text/x-python",
   "name": "python",
   "nbconvert_exporter": "python",
   "pygments_lexer": "ipython3",
   "version": "3.7.5"
  }
 },
 "nbformat": 4,
 "nbformat_minor": 4
}
