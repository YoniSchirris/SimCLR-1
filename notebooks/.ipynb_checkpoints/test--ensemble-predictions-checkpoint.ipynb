{
 "cells": [
  {
   "cell_type": "markdown",
   "metadata": {},
   "source": [
    "## This is for now not working. Regression patients are given differently than deepmil patients."
   ]
  },
  {
   "cell_type": "code",
   "execution_count": 39,
   "metadata": {},
   "outputs": [],
   "source": [
    "import pandas as pd\n",
    "from sklearn import metrics\n",
    "import os\n",
    "import json\n",
    "import numpy as np\n",
    "import matplotlib.pyplot as plt\n"
   ]
  },
  {
   "cell_type": "code",
   "execution_count": 13,
   "metadata": {},
   "outputs": [],
   "source": [
    "with open('/home/yonis/histogenomics-msc-2019/yoni-code/MsiPrediction/metadata/tcga/tcga_crc_and_brca_dot_id_to_tcga_id.json') as f:\n",
    "    dot_id_to_tcga_id = json.load(f)"
   ]
  },
  {
   "cell_type": "code",
   "execution_count": 2,
   "metadata": {},
   "outputs": [],
   "source": [
    "# TCGA: Logistic: BYOL & SimCLR <-- TP53\n",
    "# TCGA: SIMCLR DeepMIL & SIMCLR Logistic <-- tertile HRD"
   ]
  },
  {
   "cell_type": "code",
   "execution_count": 3,
   "metadata": {},
   "outputs": [],
   "source": [
    "# TCGA: BYOL: LOGISTIC: TP53: 69.34%\t3.00%\n",
    "# slurm-6635914_1\n",
    "byol=[\"logs/pretrain/1145\",\n",
    "\"logs/pretrain/1144\",\n",
    "\"logs/pretrain/1143\",\n",
    "\"logs/pretrain/1142\",\n",
    "\"logs/pretrain/1146\"]\n",
    "\n",
    "# TCGA: SIMCLR: LOGISTIC: TP53: 67.51%\t3.58%\n",
    "# \"6775548_1\n",
    "# 6775615_2-5\"\n",
    "simclr=[\"logs/pretrain/1395\",\n",
    "\"logs/pretrain/1400\",\n",
    "\"logs/pretrain/1401\",\n",
    "\"logs/pretrain/1399\",\n",
    "\"logs/pretrain/1397\"]"
   ]
  },
  {
   "cell_type": "code",
   "execution_count": 4,
   "metadata": {},
   "outputs": [],
   "source": [
    "# TCGA: SIMCLRDEEPMIL: MEDIAN HRD\n",
    "# \"6523037_1 (success): 80.27%\t1.73%\n",
    "# 6523128_2-5 (success)\"\n",
    "deepmil_hrd=[\"logs/pretrain/771\",\n",
    "\"logs/pretrain/773\",\n",
    "\"logs/pretrain/772\",\n",
    "\"logs/pretrain/774\",\n",
    "\"logs/pretrain/775\"]\n",
    "\n",
    "# TCGA: LOGISTIC: MEDIAN HRD\n",
    "# slurm-6589998_1-5.out: 74.70%\t2.45%\n",
    "log_hrd=[\"logs/pretrain/952\",\n",
    "'logs/pretrain/953',\n",
    "\"logs/pretrain/955\",\n",
    "\"logs/pretrain/956\",\n",
    "\"logs/pretrain/954\"]\n",
    "\n",
    "\n",
    "#TCGA : LOGISTIC : TP53\n",
    "# 69.87%\t2.90% slurm-6525915_1-5.out    \n",
    "log_p53 = [\n",
    "    \"logs/pretrain/819\",\n",
    "    \"logs/pretrain/818\",\n",
    "    \"logs/pretrain/816\",\n",
    "    \"logs/pretrain/817\",\n",
    "    \"logs/pretrain/815\"\n",
    "]\n",
    "#TCGA : DEEPMIL : TP53\n",
    "# 75.62%\t0.95% 6795430_1-5\n",
    "deepmil_p53 = [\n",
    "    \"logs/eval/1451\",\n",
    "    \"logs/eval/1454\",\n",
    "    \"logs/eval/1455\",\n",
    "    \"logs/eval/1452\",\n",
    "    \"logs/eval/1453\"\n",
    "]\n",
    "\n",
    "\n"
   ]
  },
  {
   "cell_type": "code",
   "execution_count": 40,
   "metadata": {},
   "outputs": [
    {
     "name": "stdout",
     "output_type": "stream",
     "text": [
      " === Combination 1 ===\n",
      " === Fold 1 ===\n",
      "0.6839440321583179\n",
      "0.6728896103896104\n",
      " === Fold 2 ===\n",
      "0.6705705009276438\n",
      "0.6783395176252319\n",
      " === Fold 3 ===\n",
      "0.7309059987631417\n",
      "0.7265383426097712\n",
      " === Fold 4 ===\n",
      "0.7188852813852813\n",
      "0.672039270253556\n",
      " === Fold 5 ===\n",
      "0.6628014842300557\n",
      "0.6256184291898579\n",
      "0.6976035868893012 0.028661119819198114\n"
     ]
    },
    {
     "ename": "TypeError",
     "evalue": "Singleton array 0.01 cannot be considered a valid collection.",
     "output_type": "error",
     "traceback": [
      "\u001b[0;31m---------------------------------------------------------------------------\u001b[0m",
      "\u001b[0;31mTypeError\u001b[0m                                 Traceback (most recent call last)",
      "\u001b[0;32m<ipython-input-40-6a697c301f55>\u001b[0m in \u001b[0;36m<module>\u001b[0;34m\u001b[0m\n\u001b[1;32m     49\u001b[0m \u001b[0mplt\u001b[0m\u001b[0;34m.\u001b[0m\u001b[0mtitle\u001b[0m\u001b[0;34m(\u001b[0m\u001b[0;34m'Receiver Operating Characteristic'\u001b[0m\u001b[0;34m)\u001b[0m\u001b[0;34m\u001b[0m\u001b[0;34m\u001b[0m\u001b[0m\n\u001b[1;32m     50\u001b[0m \u001b[0;32mfor\u001b[0m \u001b[0mens_prd\u001b[0m \u001b[0;32min\u001b[0m \u001b[0mensemble_preds\u001b[0m\u001b[0;34m:\u001b[0m\u001b[0;34m\u001b[0m\u001b[0;34m\u001b[0m\u001b[0m\n\u001b[0;32m---> 51\u001b[0;31m     \u001b[0mfpr\u001b[0m\u001b[0;34m,\u001b[0m \u001b[0mtpr\u001b[0m\u001b[0;34m,\u001b[0m \u001b[0mthreshold\u001b[0m \u001b[0;34m=\u001b[0m \u001b[0mmetrics\u001b[0m\u001b[0;34m.\u001b[0m\u001b[0mroc_curve\u001b[0m\u001b[0;34m(\u001b[0m\u001b[0mlabels\u001b[0m\u001b[0;34m,\u001b[0m \u001b[0mens_prd\u001b[0m\u001b[0;34m)\u001b[0m\u001b[0;34m\u001b[0m\u001b[0;34m\u001b[0m\u001b[0m\n\u001b[0m\u001b[1;32m     52\u001b[0m     \u001b[0mplt\u001b[0m\u001b[0;34m.\u001b[0m\u001b[0mplot\u001b[0m\u001b[0;34m(\u001b[0m\u001b[0mfpr\u001b[0m\u001b[0;34m,\u001b[0m \u001b[0mtpr\u001b[0m\u001b[0;34m,\u001b[0m \u001b[0;34m'b'\u001b[0m\u001b[0;34m,\u001b[0m \u001b[0mlabel\u001b[0m \u001b[0;34m=\u001b[0m \u001b[0;34m'AUC = %0.2f'\u001b[0m \u001b[0;34m%\u001b[0m \u001b[0mrocauc\u001b[0m\u001b[0;34m)\u001b[0m\u001b[0;34m\u001b[0m\u001b[0;34m\u001b[0m\u001b[0m\n\u001b[1;32m     53\u001b[0m \u001b[0;34m\u001b[0m\u001b[0m\n",
      "\u001b[0;32m~/.conda/envs/thesisp375_clone/lib/python3.7/site-packages/sklearn/metrics/_ranking.py\u001b[0m in \u001b[0;36mroc_curve\u001b[0;34m(y_true, y_score, pos_label, sample_weight, drop_intermediate)\u001b[0m\n\u001b[1;32m    769\u001b[0m     \"\"\"\n\u001b[1;32m    770\u001b[0m     fps, tps, thresholds = _binary_clf_curve(\n\u001b[0;32m--> 771\u001b[0;31m         y_true, y_score, pos_label=pos_label, sample_weight=sample_weight)\n\u001b[0m\u001b[1;32m    772\u001b[0m \u001b[0;34m\u001b[0m\u001b[0m\n\u001b[1;32m    773\u001b[0m     \u001b[0;31m# Attempt to drop thresholds corresponding to points in between and\u001b[0m\u001b[0;34m\u001b[0m\u001b[0;34m\u001b[0m\u001b[0;34m\u001b[0m\u001b[0m\n",
      "\u001b[0;32m~/.conda/envs/thesisp375_clone/lib/python3.7/site-packages/sklearn/metrics/_ranking.py\u001b[0m in \u001b[0;36m_binary_clf_curve\u001b[0;34m(y_true, y_score, pos_label, sample_weight)\u001b[0m\n\u001b[1;32m    536\u001b[0m         \u001b[0;32mraise\u001b[0m \u001b[0mValueError\u001b[0m\u001b[0;34m(\u001b[0m\u001b[0;34m\"{0} format is not supported\"\u001b[0m\u001b[0;34m.\u001b[0m\u001b[0mformat\u001b[0m\u001b[0;34m(\u001b[0m\u001b[0my_type\u001b[0m\u001b[0;34m)\u001b[0m\u001b[0;34m)\u001b[0m\u001b[0;34m\u001b[0m\u001b[0;34m\u001b[0m\u001b[0m\n\u001b[1;32m    537\u001b[0m \u001b[0;34m\u001b[0m\u001b[0m\n\u001b[0;32m--> 538\u001b[0;31m     \u001b[0mcheck_consistent_length\u001b[0m\u001b[0;34m(\u001b[0m\u001b[0my_true\u001b[0m\u001b[0;34m,\u001b[0m \u001b[0my_score\u001b[0m\u001b[0;34m,\u001b[0m \u001b[0msample_weight\u001b[0m\u001b[0;34m)\u001b[0m\u001b[0;34m\u001b[0m\u001b[0;34m\u001b[0m\u001b[0m\n\u001b[0m\u001b[1;32m    539\u001b[0m     \u001b[0my_true\u001b[0m \u001b[0;34m=\u001b[0m \u001b[0mcolumn_or_1d\u001b[0m\u001b[0;34m(\u001b[0m\u001b[0my_true\u001b[0m\u001b[0;34m)\u001b[0m\u001b[0;34m\u001b[0m\u001b[0;34m\u001b[0m\u001b[0m\n\u001b[1;32m    540\u001b[0m     \u001b[0my_score\u001b[0m \u001b[0;34m=\u001b[0m \u001b[0mcolumn_or_1d\u001b[0m\u001b[0;34m(\u001b[0m\u001b[0my_score\u001b[0m\u001b[0;34m)\u001b[0m\u001b[0;34m\u001b[0m\u001b[0;34m\u001b[0m\u001b[0m\n",
      "\u001b[0;32m~/.conda/envs/thesisp375_clone/lib/python3.7/site-packages/sklearn/utils/validation.py\u001b[0m in \u001b[0;36mcheck_consistent_length\u001b[0;34m(*arrays)\u001b[0m\n\u001b[1;32m    206\u001b[0m     \"\"\"\n\u001b[1;32m    207\u001b[0m \u001b[0;34m\u001b[0m\u001b[0m\n\u001b[0;32m--> 208\u001b[0;31m     \u001b[0mlengths\u001b[0m \u001b[0;34m=\u001b[0m \u001b[0;34m[\u001b[0m\u001b[0m_num_samples\u001b[0m\u001b[0;34m(\u001b[0m\u001b[0mX\u001b[0m\u001b[0;34m)\u001b[0m \u001b[0;32mfor\u001b[0m \u001b[0mX\u001b[0m \u001b[0;32min\u001b[0m \u001b[0marrays\u001b[0m \u001b[0;32mif\u001b[0m \u001b[0mX\u001b[0m \u001b[0;32mis\u001b[0m \u001b[0;32mnot\u001b[0m \u001b[0;32mNone\u001b[0m\u001b[0;34m]\u001b[0m\u001b[0;34m\u001b[0m\u001b[0;34m\u001b[0m\u001b[0m\n\u001b[0m\u001b[1;32m    209\u001b[0m     \u001b[0muniques\u001b[0m \u001b[0;34m=\u001b[0m \u001b[0mnp\u001b[0m\u001b[0;34m.\u001b[0m\u001b[0munique\u001b[0m\u001b[0;34m(\u001b[0m\u001b[0mlengths\u001b[0m\u001b[0;34m)\u001b[0m\u001b[0;34m\u001b[0m\u001b[0;34m\u001b[0m\u001b[0m\n\u001b[1;32m    210\u001b[0m     \u001b[0;32mif\u001b[0m \u001b[0mlen\u001b[0m\u001b[0;34m(\u001b[0m\u001b[0muniques\u001b[0m\u001b[0;34m)\u001b[0m \u001b[0;34m>\u001b[0m \u001b[0;36m1\u001b[0m\u001b[0;34m:\u001b[0m\u001b[0;34m\u001b[0m\u001b[0;34m\u001b[0m\u001b[0m\n",
      "\u001b[0;32m~/.conda/envs/thesisp375_clone/lib/python3.7/site-packages/sklearn/utils/validation.py\u001b[0m in \u001b[0;36m<listcomp>\u001b[0;34m(.0)\u001b[0m\n\u001b[1;32m    206\u001b[0m     \"\"\"\n\u001b[1;32m    207\u001b[0m \u001b[0;34m\u001b[0m\u001b[0m\n\u001b[0;32m--> 208\u001b[0;31m     \u001b[0mlengths\u001b[0m \u001b[0;34m=\u001b[0m \u001b[0;34m[\u001b[0m\u001b[0m_num_samples\u001b[0m\u001b[0;34m(\u001b[0m\u001b[0mX\u001b[0m\u001b[0;34m)\u001b[0m \u001b[0;32mfor\u001b[0m \u001b[0mX\u001b[0m \u001b[0;32min\u001b[0m \u001b[0marrays\u001b[0m \u001b[0;32mif\u001b[0m \u001b[0mX\u001b[0m \u001b[0;32mis\u001b[0m \u001b[0;32mnot\u001b[0m \u001b[0;32mNone\u001b[0m\u001b[0;34m]\u001b[0m\u001b[0;34m\u001b[0m\u001b[0;34m\u001b[0m\u001b[0m\n\u001b[0m\u001b[1;32m    209\u001b[0m     \u001b[0muniques\u001b[0m \u001b[0;34m=\u001b[0m \u001b[0mnp\u001b[0m\u001b[0;34m.\u001b[0m\u001b[0munique\u001b[0m\u001b[0;34m(\u001b[0m\u001b[0mlengths\u001b[0m\u001b[0;34m)\u001b[0m\u001b[0;34m\u001b[0m\u001b[0;34m\u001b[0m\u001b[0m\n\u001b[1;32m    210\u001b[0m     \u001b[0;32mif\u001b[0m \u001b[0mlen\u001b[0m\u001b[0;34m(\u001b[0m\u001b[0muniques\u001b[0m\u001b[0;34m)\u001b[0m \u001b[0;34m>\u001b[0m \u001b[0;36m1\u001b[0m\u001b[0;34m:\u001b[0m\u001b[0;34m\u001b[0m\u001b[0;34m\u001b[0m\u001b[0m\n",
      "\u001b[0;32m~/.conda/envs/thesisp375_clone/lib/python3.7/site-packages/sklearn/utils/validation.py\u001b[0m in \u001b[0;36m_num_samples\u001b[0;34m(x)\u001b[0m\n\u001b[1;32m    150\u001b[0m         \u001b[0;32mif\u001b[0m \u001b[0mlen\u001b[0m\u001b[0;34m(\u001b[0m\u001b[0mx\u001b[0m\u001b[0;34m.\u001b[0m\u001b[0mshape\u001b[0m\u001b[0;34m)\u001b[0m \u001b[0;34m==\u001b[0m \u001b[0;36m0\u001b[0m\u001b[0;34m:\u001b[0m\u001b[0;34m\u001b[0m\u001b[0;34m\u001b[0m\u001b[0m\n\u001b[1;32m    151\u001b[0m             raise TypeError(\"Singleton array %r cannot be considered\"\n\u001b[0;32m--> 152\u001b[0;31m                             \" a valid collection.\" % x)\n\u001b[0m\u001b[1;32m    153\u001b[0m         \u001b[0;31m# Check that shape is returning an integer or default to len\u001b[0m\u001b[0;34m\u001b[0m\u001b[0;34m\u001b[0m\u001b[0;34m\u001b[0m\u001b[0m\n\u001b[1;32m    154\u001b[0m         \u001b[0;31m# Dask dataframes may not return numeric shape[0] value\u001b[0m\u001b[0;34m\u001b[0m\u001b[0;34m\u001b[0m\u001b[0;34m\u001b[0m\u001b[0m\n",
      "\u001b[0;31mTypeError\u001b[0m: Singleton array 0.01 cannot be considered a valid collection."
     ]
    }
   ],
   "source": [
    "root='/home/yonis/SimCLR-1'\n",
    "ensemble_roc = []\n",
    "ensemble_predss = [] \n",
    "for i, (dirs1, dirs2) in enumerate([[byol, simclr]]):\n",
    "    print(f\" === Combination {i+1} ===\")\n",
    "    for j, (dir1, dir2) in enumerate(zip(dirs1, dirs2)):\n",
    "        print(f\" === Fold {j+1} ===\")\n",
    "        fn1 = [file for file in os.listdir(os.path.join(root, dir1)) if 'regression' in file][0]\n",
    "        fn2 = [file for file in os.listdir(os.path.join(root, dir2)) if 'regression' in file][0]\n",
    "        \n",
    "        df1 = pd.read_csv(os.path.join(root, dir1, fn1))\n",
    "        df2 = pd.read_csv(os.path.join(root, dir2, fn2))\n",
    "        \n",
    "#         for df in [df1, df2]:\n",
    "#             if df['preds'].dtype == 'float64' # it's a DeepMIL prediction\n",
    "#                 df['patient2'] = df.apply(lambda x: x, axis=1)\n",
    "#                 patient_id = dot_id_to_tcga_id[x['patient']].split('-')[2]\n",
    "\n",
    "        dfg1 = df1.groupby(['patient']).mean()\n",
    "        patients1 = dfg1.index\n",
    "#         print(patients1)\n",
    "        l1 = dfg1['labels'].values\n",
    "        p1 = np.array(dfg1['preds'].values)\n",
    "        rocauc1 = metrics.roc_auc_score(y_true=l1, y_score=p1)\n",
    "        print(rocauc1)\n",
    "        \n",
    "        dfg2 = df2.groupby(['patient']).mean()\n",
    "        patients2 = dfg2.index\n",
    "#         print(patients2)\n",
    "        l2 = dfg2['labels'].values\n",
    "        p2 = np.array(dfg2['preds'].values)\n",
    "        rocauc2 = metrics.roc_auc_score(y_true=l2, y_score=p2)\n",
    "        print(rocauc2)\n",
    "        \n",
    "        l1 = np.array(l1).astype(np.int16)\n",
    "        l2 = np.array(l2).astype(np.int16)\n",
    "        labels=l1\n",
    "        ensemble_preds = (p1 + p2) / 2\n",
    "        \n",
    "        ensemble_predss.append(ensemble_preds)\n",
    "        \n",
    "        \n",
    "        \n",
    "        ensemble_roc.append(metrics.roc_auc_score(y_true=l1, y_score=ensemble_preds))\n",
    "    \n",
    "        \n",
    "print(np.mean(ensemble_roc), np.std(ensemble_roc))\n",
    "\n",
    "plt.title('Receiver Operating Characteristic')\n",
    "for ens_prd in ensemble_preds:\n",
    "    fpr, tpr, threshold = metrics.roc_curve(labels, ens_prd)\n",
    "    plt.plot(fpr, tpr, 'b', label = 'AUC = %0.2f' % rocauc)\n",
    "\n",
    "    \n",
    "\n",
    "\n",
    "\n",
    "plt.plot([0, 1], [0, 1],'r--')\n",
    "plt.xlim([0, 1])\n",
    "plt.ylim([0, 1])\n",
    "\n",
    "plt.ylabel('True Positive Rate')\n",
    "plt.xlabel('False Positive Rate')\n",
    "\n",
    "plt.legend(loc = 'lower right')\n",
    "plt.show()\n",
    "        "
   ]
  },
  {
   "cell_type": "code",
   "execution_count": null,
   "metadata": {},
   "outputs": [],
   "source": []
  }
 ],
 "metadata": {
  "kernelspec": {
   "display_name": "Python (thesisp375_clone)",
   "language": "python",
   "name": "thesisp375_clone"
  },
  "language_info": {
   "codemirror_mode": {
    "name": "ipython",
    "version": 3
   },
   "file_extension": ".py",
   "mimetype": "text/x-python",
   "name": "python",
   "nbconvert_exporter": "python",
   "pygments_lexer": "ipython3",
   "version": "3.7.5"
  }
 },
 "nbformat": 4,
 "nbformat_minor": 2
}
